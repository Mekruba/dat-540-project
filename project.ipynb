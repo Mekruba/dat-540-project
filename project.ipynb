{
 "cells": [
  {
   "cell_type": "code",
   "execution_count": null,
   "metadata": {},
   "outputs": [
    {
     "name": "stdout",
     "output_type": "stream",
     "text": [
      "Dataset not found locally. Downloading...\n",
      "  % Total    % Received % Xferd  Average Speed   Time    Time     Time  Current\n",
      "                                 Dload  Upload   Total   Spent    Left  Speed\n",
      "  0     0    0     0    0     0      0      0 --:--:-- --:--:-- --:--:--     0\n",
      "100 2180M  100 2180M    0     0  32.0M      0  0:01:08  0:01:08 --:--:-- 32.3M\n",
      "Download complete. Extracting files...\n",
      "Extraction complete.\n"
     ]
    }
   ],
   "source": [
    "import os\n",
    "from pathlib import Path\n",
    "\n",
    "# Define paths\n",
    "dataset_folder = Path(\"./data/leapGestRecog\").expanduser()  # Adjust folder name as needed\n",
    "zip_path = Path(\"./data/archive.zip\").expanduser()\n",
    "\n",
    "if not dataset_folder.parent.exists():\n",
    "    print(f\"Creating the directory: {dataset_folder.parent}\")\n",
    "    dataset_folder.parent.mkdir(parents=True, exist_ok=True)\n",
    "\n",
    "# Check if dataset folder exists\n",
    "if not dataset_folder.exists():\n",
    "    print(\"Dataset not found locally. Downloading...\")\n",
    "    \n",
    "    if not zip_path.exists():\n",
    "        # Run shell command to download the dataset if it doesn't exist\n",
    "        !curl -L -o {zip_path} https://www.kaggle.com/api/v1/datasets/download/gti-upm/leapgestrecog\n",
    "    \n",
    "    # Unzip the downloaded file\n",
    "    if zip_path.exists():\n",
    "        print(\"Download complete. Extracting files...\")\n",
    "        import zipfile\n",
    "        with zipfile.ZipFile(zip_path, 'r') as zip_ref:\n",
    "            zip_ref.extractall(dataset_folder)  # Extracts to the folder above the zip file\n",
    "        print(\"Extraction complete.\")\n",
    "    else:\n",
    "        print(\"Download failed. Please check your connection or Kaggle API credentials.\")\n",
    "else:\n",
    "    print(\"Dataset already exists locally.\")\n"
   ]
  },
  {
   "cell_type": "code",
   "execution_count": 1,
   "metadata": {},
   "outputs": [
    {
     "name": "stdout",
     "output_type": "stream",
     "text": [
      "Shape of image data: (200, 153600)\n"
     ]
    }
   ],
   "source": [
    "import cv2\n",
    "import numpy as np\n",
    "import os\n",
    "\n",
    "# Folder containing images\n",
    "folder_path = './data/leapGestRecog/00/01_palm/'\n",
    "\n",
    "# List to store image data and corresponding labels (if available)\n",
    "images = []\n",
    "labels = []  # Optional if you have labels for supervised learning\n",
    "\n",
    "# Iterate over the image files in the folder\n",
    "for filename in os.listdir(folder_path):\n",
    "    if filename.endswith(\".jpg\") or filename.endswith(\".png\"):\n",
    "        # Read each image in grayscale\n",
    "        img = cv2.imread(os.path.join(folder_path, filename), cv2.IMREAD_GRAYSCALE)\n",
    "        \n",
    "        # Ensure the image is not None\n",
    "        if img is not None:\n",
    "            # Flatten the 2D image into a 1D array (each pixel is a feature)\n",
    "            img_flattened = img.flatten()  # This converts the image to a 1D array\n",
    "            images.append(img_flattened)\n",
    "            \n",
    "            # Example: if you have labels for supervised learning, you could store them\n",
    "            # labels.append(label)  # e.g., label = 0 or 1 for gesture class\n",
    "\n",
    "# Convert images list into a NumPy array (2D array, where each row is an image)\n",
    "X = np.array(images)\n",
    "# If labels exist, convert them to a NumPy array as well\n",
    "# y = np.array(labels)\n",
    "\n",
    "print(\"Shape of image data:\", X.shape)\n"
   ]
  }
 ],
 "metadata": {
  "kernelspec": {
   "display_name": "venv",
   "language": "python",
   "name": "python3"
  },
  "language_info": {
   "codemirror_mode": {
    "name": "ipython",
    "version": 3
   },
   "file_extension": ".py",
   "mimetype": "text/x-python",
   "name": "python",
   "nbconvert_exporter": "python",
   "pygments_lexer": "ipython3",
   "version": "3.12.7"
  }
 },
 "nbformat": 4,
 "nbformat_minor": 2
}
